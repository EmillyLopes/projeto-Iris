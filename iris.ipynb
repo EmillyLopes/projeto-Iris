{
    "cells": [
        {
            "cell_type": "code",
            "execution_count": 67,
            "source": [
                "import pandas as pd\r\n",
                "\r\n",
                "from sklearn.linear_model import LogisticRegression\r\n",
                "from sklearn.model_selection import train_test_split\r\n",
                "from sklearn.preprocessing import LabelEncoder\r\n",
                "from sklearn.metrics import accuracy_score"
            ],
            "outputs": [],
            "metadata": {}
        },
        {
            "cell_type": "code",
            "execution_count": 68,
            "source": [
                "#abaixo será apenas ler as bases de dados\\\r\n",
                "data= pd.read_table(\"C:/Users/emtra/OneDrive/Documentos/programação/Banco de dados/Analise_de_dados/iris/iris.data\", sep=',')\r\n",
                "print(data.head())"
            ],
            "outputs": [
                {
                    "output_type": "stream",
                    "name": "stdout",
                    "text": [
                        "   SepalLengthCm  SepalWidthCm  PetalLengthCm  PetalWidthCm      Species\n",
                        "0            5.1           3.5            1.4           0.2  Iris-setosa\n",
                        "1            4.9           3.0            1.4           0.2  Iris-setosa\n",
                        "2            4.7           3.2            1.3           0.2  Iris-setosa\n",
                        "3            4.6           3.1            1.5           0.2  Iris-setosa\n",
                        "4            5.0           3.6            1.4           0.2  Iris-setosa\n"
                    ]
                }
            ],
            "metadata": {}
        },
        {
            "cell_type": "code",
            "execution_count": 69,
            "source": [
                "#alendo a base de dados\r\n",
                "print('\\n\\nNome das Colunas\\n\\n')\r\n",
                "print(data.columns)\r\n",
                "data.columns.values"
            ],
            "outputs": [
                {
                    "output_type": "stream",
                    "name": "stdout",
                    "text": [
                        "\n",
                        "\n",
                        "Nome das Colunas\n",
                        "\n",
                        "\n",
                        "Index(['SepalLengthCm', 'SepalWidthCm', 'PetalLengthCm', 'PetalWidthCm',\n",
                        "       'Species'],\n",
                        "      dtype='object')\n"
                    ]
                },
                {
                    "output_type": "execute_result",
                    "data": {
                        "text/plain": [
                            "array(['SepalLengthCm', 'SepalWidthCm', 'PetalLengthCm', 'PetalWidthCm',\n",
                            "       'Species'], dtype=object)"
                        ]
                    },
                    "metadata": {},
                    "execution_count": 69
                }
            ],
            "metadata": {}
        },
        {
            "cell_type": "code",
            "execution_count": 70,
            "source": [
                "#Label encoder pra variavel\r\n",
                "encode = LabelEncoder()\r\n",
                "data.Species = encode.fit_transform(data.Species)\r\n",
                "\r\n",
                "\r\n",
                "print(data.head())"
            ],
            "outputs": [
                {
                    "output_type": "stream",
                    "name": "stdout",
                    "text": [
                        "   SepalLengthCm  SepalWidthCm  PetalLengthCm  PetalWidthCm  Species\n",
                        "0            5.1           3.5            1.4           0.2        0\n",
                        "1            4.9           3.0            1.4           0.2        0\n",
                        "2            4.7           3.2            1.3           0.2        0\n",
                        "3            4.6           3.1            1.5           0.2        0\n",
                        "4            5.0           3.6            1.4           0.2        0\n"
                    ]
                }
            ],
            "metadata": {}
        },
        {
            "cell_type": "code",
            "execution_count": 71,
            "source": [
                "#treinando o teste de separação\r\n",
                "train , test = train_test_split(data, test_size=0.2, random_state=0)\r\n",
                "\r\n",
                "print(\"Tamanho do treino de data:\",train.shape)\r\n",
                "print(\"Tamanho do teste data:\", test.shape)"
            ],
            "outputs": [
                {
                    "output_type": "stream",
                    "name": "stdout",
                    "text": [
                        "Tamanho do treino de data: (120, 5)\n",
                        "Tamanho do teste data: (30, 5)\n"
                    ]
                }
            ],
            "metadata": {}
        },
        {
            "cell_type": "code",
            "execution_count": 78,
            "source": [
                "#separando o alvo da variavel independente\r\n",
                "train_x = train.drop(columns=['Species'], axis = 1)\r\n",
                "train_y = train['Species']\r\n",
                "\r\n",
                "test_x = test.drop(columns=['Species'], axis = 1)\r\n",
                "test_y = test['Species']"
            ],
            "outputs": [],
            "metadata": {}
        },
        {
            "cell_type": "code",
            "execution_count": 82,
            "source": [
                "#criando o modelo do objeto\r\n",
                "model = LogisticRegression()\r\n",
                "\r\n",
                "model.fit(train_x,train_y)\r\n",
                "\r\n",
                "predict = model.predict(test_x)\r\n",
                "\r\n",
                "print('Valores previstos no teste dos dados', encode.inverse_transform(predict))\r\n",
                "print('\\n\\nPrecisão do score no teste de dados :')\r\n",
                "print(accuracy_score(test_y,predict))"
            ],
            "outputs": [
                {
                    "output_type": "stream",
                    "name": "stdout",
                    "text": [
                        "Valores previstos no teste dos dados ['Iris-virginica' 'Iris-versicolor' 'Iris-setosa' 'Iris-virginica'\n",
                        " 'Iris-setosa' 'Iris-virginica' 'Iris-setosa' 'Iris-versicolor'\n",
                        " 'Iris-versicolor' 'Iris-versicolor' 'Iris-virginica' 'Iris-versicolor'\n",
                        " 'Iris-versicolor' 'Iris-versicolor' 'Iris-versicolor' 'Iris-setosa'\n",
                        " 'Iris-versicolor' 'Iris-versicolor' 'Iris-setosa' 'Iris-setosa'\n",
                        " 'Iris-virginica' 'Iris-versicolor' 'Iris-setosa' 'Iris-setosa'\n",
                        " 'Iris-virginica' 'Iris-setosa' 'Iris-setosa' 'Iris-versicolor'\n",
                        " 'Iris-versicolor' 'Iris-setosa']\n",
                        "\n",
                        "\n",
                        "Precisão do score no teste de dados :\n",
                        "1.0\n"
                    ]
                },
                {
                    "output_type": "stream",
                    "name": "stderr",
                    "text": [
                        "C:\\Users\\emtra\\anaconda3\\lib\\site-packages\\sklearn\\linear_model\\_logistic.py:762: ConvergenceWarning: lbfgs failed to converge (status=1):\n",
                        "STOP: TOTAL NO. of ITERATIONS REACHED LIMIT.\n",
                        "\n",
                        "Increase the number of iterations (max_iter) or scale the data as shown in:\n",
                        "    https://scikit-learn.org/stable/modules/preprocessing.html\n",
                        "Please also refer to the documentation for alternative solver options:\n",
                        "    https://scikit-learn.org/stable/modules/linear_model.html#logistic-regression\n",
                        "  n_iter_i = _check_optimize_result(\n"
                    ]
                }
            ],
            "metadata": {}
        }
    ],
    "metadata": {
        "orig_nbformat": 4,
        "language_info": {
            "name": "python",
            "version": "3.8.5",
            "mimetype": "text/x-python",
            "codemirror_mode": {
                "name": "ipython",
                "version": 3
            },
            "pygments_lexer": "ipython3",
            "nbconvert_exporter": "python",
            "file_extension": ".py"
        },
        "kernelspec": {
            "name": "python3",
            "display_name": "Python 3.8.5 64-bit ('base': conda)"
        },
        "interpreter": {
            "hash": "1908cf2fd276b08c2673b5124e6a0cd68e5a140b96d4f8aeedbb5753a39c3b35"
        }
    },
    "nbformat": 4,
    "nbformat_minor": 2
}